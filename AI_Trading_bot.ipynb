{
  "nbformat": 4,
  "nbformat_minor": 0,
  "metadata": {
    "colab": {
      "provenance": [],
      "authorship_tag": "ABX9TyNqX9USuai8rAwKKEx0X2TE",
      "include_colab_link": true
    },
    "kernelspec": {
      "name": "python3",
      "display_name": "Python 3"
    },
    "language_info": {
      "name": "python"
    }
  },
  "cells": [
    {
      "cell_type": "markdown",
      "metadata": {
        "id": "view-in-github",
        "colab_type": "text"
      },
      "source": [
        "<a href=\"https://colab.research.google.com/github/Choudharynipun/AI-Trading-BOT/blob/main/AI_Trading_bot.ipynb\" target=\"_parent\"><img src=\"https://colab.research.google.com/assets/colab-badge.svg\" alt=\"Open In Colab\"/></a>"
      ]
    },
    {
      "cell_type": "code",
      "execution_count": null,
      "metadata": {
        "id": "x0MMqNfYQI2i"
      },
      "outputs": [],
      "source": [
        "import yfinance as yf\n",
        "import pandas as pd\n",
        "\n",
        "dataF = yf.download(\"EURUSD=X\", start=\"2022-10-7\", end=\"2022-12-5\", interval='15m')\n",
        "dataF.iloc[:,:]"
      ]
    },
    {
      "cell_type": "code",
      "source": [
        "#Define your signal function\n",
        "def signal_generator(df):\n",
        "    open = df.Open.iloc[-1]\n",
        "    close = df.Close.iloc[-1]\n",
        "    previous_open = df.Open.iloc[-2]\n",
        "    previous_close = df.Close.iloc[-2]\n",
        "\n",
        "    # Bearish Pattern\n",
        "    if (open>close and\n",
        "    previous_open<previous_close and\n",
        "    close<previous_open and\n",
        "    open>=previous_close):\n",
        "        return 1\n",
        "\n",
        "    # Bullish Pattern\n",
        "    elif (open<close and\n",
        "        previous_open>previous_close and\n",
        "        close>previous_open and\n",
        "        open<=previous_close):\n",
        "        return 2\n",
        "\n",
        "    # No clear pattern\n",
        "    else:\n",
        "        return 0\n",
        "\n",
        "signal = []\n",
        "signal.append(0)\n",
        "for i in range(1,len(dataF)):\n",
        "    df = dataF[i-1:i+1]\n",
        "    signal.append(signal_generator(df))\n",
        "#signal_generator(data)\n",
        "dataF[\"signal\"] = signal"
      ],
      "metadata": {
        "id": "VL14vKdNVGiH"
      },
      "execution_count": null,
      "outputs": []
    },
    {
      "cell_type": "code",
      "source": [
        "dataF.signal.value_counts()\n",
        "#dataF.iloc[:, :]"
      ],
      "metadata": {
        "id": "bAhHcoWlVGem"
      },
      "execution_count": null,
      "outputs": []
    },
    {
      "cell_type": "code",
      "source": [
        "!pip install apscheduler\n",
        "!pip install oandapyV20\n",
        "!pip install oanda_candles"
      ],
      "metadata": {
        "id": "AdBCuHn5VGcE"
      },
      "execution_count": null,
      "outputs": []
    },
    {
      "cell_type": "code",
      "source": [
        "#Connect to the market and execute trades\n",
        "from apscheduler.schedulers.blocking import BlockingScheduler\n",
        "from oandapyV20 import API\n",
        "import oandapyV20.endpoints.orders as orders\n",
        "from oandapyV20.contrib.requests import MarketOrderRequest\n",
        "from oanda_candles import Pair, Gran, CandleClient\n",
        "from oandapyV20.contrib.requests import TakeProfitDetails, StopLossDetails"
      ],
      "metadata": {
        "id": "AqXUQfisVGZ1"
      },
      "execution_count": null,
      "outputs": []
    },
    {
      "cell_type": "code",
      "source": [
        "!pip install config"
      ],
      "metadata": {
        "id": "5R36-MFmVGXE"
      },
      "execution_count": null,
      "outputs": []
    },
    {
      "cell_type": "code",
      "source": [
        "import config\n",
        "from config import access_token, accountID\n",
        "def get_candles(n):\n",
        "    #access_token='XXXXXXX'#you need token here generated from OANDA account\n",
        "    client = CandleClient(access_token, real=False)\n",
        "    collector = client.get_collector(Pair.EUR_USD, Gran.M15)\n",
        "    candles = collector.grab(n)\n",
        "    return candles\n",
        "\n",
        "candles = get_candles(3)\n",
        "for candle in candles:\n",
        "    print(float(str(candle.bid.o))>1)\n"
      ],
      "metadata": {
        "id": "ayc6y5K3VGU0"
      },
      "execution_count": null,
      "outputs": []
    },
    {
      "cell_type": "code",
      "source": [
        "def trading_job():\n",
        "    candles = get_candles(3)\n",
        "    dfstream = pd.DataFrame(columns=['Open','Close','High','Low'])\n",
        "\n",
        "    i=0\n",
        "    for candle in candles:\n",
        "        dfstream.loc[i, ['Open']] = float(str(candle.bid.o))\n",
        "        dfstream.loc[i, ['Close']] = float(str(candle.bid.c))\n",
        "        dfstream.loc[i, ['High']] = float(str(candle.bid.h))\n",
        "        dfstream.loc[i, ['Low']] = float(str(candle.bid.l))\n",
        "        i=i+1\n",
        "\n",
        "    dfstream['Open'] = dfstream['Open'].astype(float)\n",
        "    dfstream['Close'] = dfstream['Close'].astype(float)\n",
        "    dfstream['High'] = dfstream['High'].astype(float)\n",
        "    dfstream['Low'] = dfstream['Low'].astype(float)\n",
        "\n",
        "    signal = signal_generator(dfstream.iloc[:-1,:])#\n",
        "\n",
        "    # EXECUTING ORDERS\n",
        "    #accountID = \"XXXXXXX\" #your account ID here\n",
        "    client = API(access_token)\n",
        "\n",
        "    SLTPRatio = 2.\n",
        "    previous_candleR = abs(dfstream['High'].iloc[-2]-dfstream['Low'].iloc[-2])\n",
        "\n",
        "    SLBuy = float(str(candle.bid.o))-previous_candleR\n",
        "    SLSell = float(str(candle.bid.o))+previous_candleR\n",
        "\n",
        "    TPBuy = float(str(candle.bid.o))+previous_candleR*SLTPRatio\n",
        "    TPSell = float(str(candle.bid.o))-previous_candleR*SLTPRatio\n",
        "\n",
        "    print(dfstream.iloc[:-1,:])\n",
        "    print(TPBuy, \"  \", SLBuy, \"  \", TPSell, \"  \", SLSell)\n",
        "    signal = 2\n",
        "    #Sell\n",
        "    if signal == 1:\n",
        "        mo = MarketOrderRequest(instrument=\"EUR_USD\", units=-1000, takeProfitOnFill=TakeProfitDetails(price=TPSell).data, stopLossOnFill=StopLossDetails(price=SLSell).data)\n",
        "        r = orders.OrderCreate(accountID, data=mo.data)\n",
        "        rv = client.request(r)\n",
        "        print(rv)\n",
        "    #Buy\n",
        "    elif signal == 2:\n",
        "        mo = MarketOrderRequest(instrument=\"EUR_USD\", units=1000, takeProfitOnFill=TakeProfitDetails(price=TPBuy).data, stopLossOnFill=StopLossDetails(price=SLBuy).data)\n",
        "        r = orders.OrderCreate(accountID, data=mo.data)\n",
        "        rv = client.request(r)\n",
        "        print(rv)"
      ],
      "metadata": {
        "id": "5foLLAiLVGSL"
      },
      "execution_count": null,
      "outputs": []
    },
    {
      "cell_type": "code",
      "source": [
        "#Executing orders automatically with a scheduler\n",
        "trading_job()\n",
        "\n",
        "scheduler = BlockingScheduler()\n",
        "scheduler.add_job(trading_job, 'cron', day_of_week='mon-fri', hour='00-23', minute='1,16,31,46', start_date='2022-01-12 12:00:00', timezone='America/Chicago')\n",
        "scheduler.start()"
      ],
      "metadata": {
        "id": "zE8N8mUWVGPf"
      },
      "execution_count": null,
      "outputs": []
    }
  ]
}